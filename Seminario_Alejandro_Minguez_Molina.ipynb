{
  "nbformat": 4,
  "nbformat_minor": 0,
  "metadata": {
    "colab": {
      "name": "Seminario_Alejandro_Minguez_Molina.ipynb",
      "provenance": [],
      "collapsed_sections": [],
      "include_colab_link": true
    },
    "kernelspec": {
      "name": "python3",
      "display_name": "Python 3"
    }
  },
  "cells": [
    {
      "cell_type": "markdown",
      "metadata": {
        "id": "view-in-github",
        "colab_type": "text"
      },
      "source": [
        "<a href=\"https://colab.research.google.com/github/aammmmalex/03MIAR-Algoritmos-de-optimizacion-2021/blob/main/Seminario_Alejandro_Minguez_Molina.ipynb\" target=\"_parent\"><img src=\"https://colab.research.google.com/assets/colab-badge.svg\" alt=\"Open In Colab\"/></a>"
      ]
    },
    {
      "cell_type": "markdown",
      "metadata": {
        "id": "hVbXYX-RfPWh"
      },
      "source": [
        "# **Algoritmos de optimización** - Seminario<br>\n",
        "Nombre y Apellidos: **Alejandro Minguez Molina**  <br>\n",
        "Url: https://github.com/.../03MAIR---Algoritmos-de-Optimizacion---2019/tree/master/SEMINARIO<br>\n",
        "Problema:\n",
        "\n",
        "***3. Combinar cifras y operaciones***\n",
        "\n",
        "Descripción del problema:\n",
        "\n",
        "El problema consiste en analizar el siguiente problema y diseñar un algoritmo que lo resuelva.<br>\n",
        "• Disponemos de las 9 cifras <b>del 1 al 9 </b>(excluimos el cero) y de los 4 signos básicos de las\n",
        "operaciones fundamentales: <b>suma(+), resta(-), multiplicación(*) y división(/)</b><br>\n",
        "• Debemos combinarlos alternativamente sin repetir ninguno de ellos para obtener una cantidad dada. Un ejemplo sería para obtener el 4:\n",
        "<b>4+2-6/3*1 = 4</b><br>\n",
        "• Debe analizarse el problema para encontrar todos los valores enteros posibles planteando las siguientes cuestiones:\n",
        "- ¿Qué valor máximo y mínimo se pueden obtener según las condiciones del problema?\n",
        "- ¿Es posible encontrar todos los valores enteros posibles entre dicho mínimo y máximo ?\n",
        "                       "
      ]
    },
    {
      "cell_type": "markdown",
      "metadata": {
        "id": "3_-exlrTgLd-"
      },
      "source": [
        "\n",
        "\n",
        "---\n",
        "\n",
        "\n",
        "<b>¿Cuantas posibilidades hay sin tener en cuenta las restricciones?<br>\n",
        "\n",
        "¿Cuantas posibilidades hay teniendo en cuenta todas las restricciones.</b><br>\n",
        "\n",
        "Podemos utilizar como definición el muestreo ordenado sin remplazo:<br>\n",
        "\n",
        "nPk = (n!) / (n-k)!\n",
        "\n",
        "Donde n es la longitud de la lista y k la cantidad que hay que escoger.<br>\n",
        "\n",
        "<b>Teniendo en cuenta las restricciones:</b><br>\n",
        "Posibilidades en los signos:<br>\n",
        "(4!) = 24 Posibilidades\n",
        "Posibilidades en los números:<br>\n",
        "(9!)/(9-5)! = 15120 Posibilidades\n",
        "\n",
        "Combinando ambas:<br>\n",
        "15120x24 = 362880 Posibilidades\n",
        "\n",
        "<b>Sin restricciones:</b><br>\n",
        "Posibilidades en los signos:<br>\n",
        "4^4= 256 Posibilidades\n",
        "Posibilidades en los números:<br>\n",
        "9^5 =  59049 Posibilidades\n",
        "\n",
        "Combinando ambas:<br>\n",
        "15116544 Posibilidades\n",
        "\n",
        "\n",
        "\n"
      ]
    },
    {
      "cell_type": "markdown",
      "metadata": {
        "id": "dzynfVJahHoY"
      },
      "source": [
        "\n",
        "\n",
        "---\n",
        "\n",
        "\n",
        "Modelo para el espacio de soluciones<br>\n",
        "¿Cual es la estructura de datos que mejor se adapta al problema? Argumentalo.(Es posible que hayas elegido una al principio y veas la necesidad de cambiar, arguentalo)\n"
      ]
    },
    {
      "cell_type": "code",
      "metadata": {
        "id": "38c-7-ejhJmA"
      },
      "source": [
        "SIGNOS = [\"+\",\"-\",\"*\",\"/\"]\n",
        "NUMEROS = [\"1\",\"2\",\"3\",\"4\",\"5\",\"6\",\"7\",\"8\",\"9\"]"
      ],
      "execution_count": 1,
      "outputs": []
    },
    {
      "cell_type": "markdown",
      "source": [
        "Para mi la forma adecuada de estructurar los datos es mediante el uso de dos listas de carácteres, una que contiene los números posibles y la otra los signos que se pueden utilizar."
      ],
      "metadata": {
        "id": "La5DIZjLieFK"
      }
    },
    {
      "cell_type": "markdown",
      "metadata": {
        "id": "7Z9U2W7bi-XS"
      },
      "source": [
        "\n",
        "\n",
        "---\n",
        "\n",
        "\n",
        "<b>Según el modelo para el espacio de soluciones<br>\n",
        "¿Cual es la función objetivo?\n",
        "¿Es un problema de maximización o minimización? </b>"
      ]
    },
    {
      "cell_type": "code",
      "metadata": {
        "id": "pDA-rg3Gj5Lz"
      },
      "source": [
        "def funcion_de_evaluacion (valorObjetivo, expresion):\n",
        "  if (eval(expresion) == valorObjetivo): return True\n",
        "  else: return False"
      ],
      "execution_count": 2,
      "outputs": []
    },
    {
      "cell_type": "markdown",
      "source": [
        "Para este problema, la función objetivo constará de dos parámetros de entrada, uno será el valor objetivo, el que se quiere conseguir. El otro parámetro será la expresión matemática en forma de string que será evaluada. La función objetivo devolverá verdadero si con la expresión mátemática se consigue obtener el número objetivo."
      ],
      "metadata": {
        "id": "YNRaQpmXjPPS"
      }
    },
    {
      "cell_type": "markdown",
      "metadata": {
        "id": "rlnTYgY1j6I2"
      },
      "source": [
        "\n",
        "\n",
        "---\n",
        "\n",
        "\n",
        "**Diseña un algoritmo para resolver el problema por fuerza bruta**"
      ]
    },
    {
      "cell_type": "code",
      "metadata": {
        "id": "CJb5sQ0qkENy",
        "colab": {
          "base_uri": "https://localhost:8080/",
          "height": 35
        },
        "outputId": "578cd2d2-c471-4d28-d1c1-494e6591b09e"
      },
      "source": [
        "from itertools import permutations\n",
        "\n",
        "def generarExpresion(numeros, signos):\n",
        "    indiceNumeros = 0\n",
        "    indiceSignos = 0\n",
        "    expresion = \"\"\n",
        "    for i in range(len(numeros+signos)):\n",
        "      if i%2 == 0: # con las condiciones del problema el primero es un número y a continuación se combinan\n",
        "        expresion += str(numeros[indiceNumeros])\n",
        "        indiceNumeros = indiceNumeros + 1\n",
        "      else:\n",
        "        expresion += str(signos[indiceSignos])\n",
        "        indiceSignos = indiceSignos + 1\n",
        "    return expresion\n",
        "\n",
        "def combinacionNumeros():\n",
        "    return list(permutations(NUMEROS, 5))\n",
        "\n",
        "def combinacionSignos():\n",
        "    return list(permutations(SIGNOS, 4))\n",
        "\n",
        "def buscarExpresion(valor):\n",
        "    listaSignos = combinacionSignos()\n",
        "    listaNumeros = combinacionNumeros()\n",
        "    for signos in listaSignos:\n",
        "      for numeros in listaNumeros:\n",
        "          expresion = generarExpresion(numeros, signos)\n",
        "          if eval(expresion) == valor:\n",
        "              return expresion\n",
        "    return \"Error\"\n",
        "\n",
        "buscarExpresion(4)"
      ],
      "execution_count": 121,
      "outputs": [
        {
          "output_type": "execute_result",
          "data": {
            "application/vnd.google.colaboratory.intrinsic+json": {
              "type": "string"
            },
            "text/plain": [
              "'1+4-2*3/6'"
            ]
          },
          "metadata": {},
          "execution_count": 121
        }
      ]
    },
    {
      "cell_type": "markdown",
      "source": [
        "Una vez tenemos el algoritmo que calcula la expresión para generar un valor vamos a obtener el valor máximo y mínimo que es capaz de generar este algoritmo. Para ello simplemente guardamos en una lista los valores que se generan para todo el proceso y después se búsca el valor máximo y mínimo. Se creará otra función que genere todos estos valores."
      ],
      "metadata": {
        "id": "jt8UzWMxvXRD"
      }
    },
    {
      "cell_type": "code",
      "source": [
        "def generarExpresiones():\n",
        "    listaDeValores = []\n",
        "    listaSignos = combinacionSignos()\n",
        "    listaNumeros = combinacionNumeros()\n",
        "    for signos in listaSignos:\n",
        "      for numeros in listaNumeros:\n",
        "          expresion = generarExpresion(numeros, signos)\n",
        "          valor = float(eval(expresion))\n",
        "          if valor% 1 == 0:\n",
        "            listaDeValores.append(valor)\n",
        "          \n",
        "              \n",
        "    return listaDeValores"
      ],
      "metadata": {
        "id": "Y2-hO5DLvt4F"
      },
      "execution_count": 122,
      "outputs": []
    },
    {
      "cell_type": "code",
      "source": [
        "listaDeValores = generarExpresiones()\n",
        "\n",
        "valorMaximo = max(listaDeValores)\n",
        "valorMinimo = min(listaDeValores)\n",
        "\n",
        "print(f\"El valor máximo encontrado es {valorMaximo} y el mínimo {valorMinimo}\")"
      ],
      "metadata": {
        "colab": {
          "base_uri": "https://localhost:8080/"
        },
        "id": "-PSUoi3SwbHq",
        "outputId": "de5b8ec5-7d95-4d7b-b4fd-42f75754fee2"
      },
      "execution_count": 123,
      "outputs": [
        {
          "output_type": "stream",
          "name": "stdout",
          "text": [
            "El valor máximo encontrado es 77.0 y el mínimo -69.0\n"
          ]
        }
      ]
    },
    {
      "cell_type": "code",
      "source": [
        "def comprobarTodosValoresEntreMinimoMaximo(minimo, maximo):\n",
        "  for i in range(int(minimo), int(maximo)):\n",
        "    result = buscarExpresion(i)\n",
        "\n",
        "    if result == 'Error':\n",
        "      return \"No existen todos los valores entre el minimo y maximo\"\n",
        "    else:\n",
        "      return \"Existen todos los valores entre el minimo y maximo\""
      ],
      "metadata": {
        "id": "yMZK8GYJwoEU"
      },
      "execution_count": 124,
      "outputs": []
    },
    {
      "cell_type": "code",
      "source": [
        "comprobarTodosValoresEntreMinimoMaximo(valorMinimo,valorMaximo)"
      ],
      "metadata": {
        "colab": {
          "base_uri": "https://localhost:8080/",
          "height": 35
        },
        "id": "neFoxESl7Vkp",
        "outputId": "f7dcf2d0-d140-4607-8106-dd1011ad82f4"
      },
      "execution_count": 125,
      "outputs": [
        {
          "output_type": "execute_result",
          "data": {
            "application/vnd.google.colaboratory.intrinsic+json": {
              "type": "string"
            },
            "text/plain": [
              "'Existen todos los valores entre el minimo y maximo'"
            ]
          },
          "metadata": {},
          "execution_count": 125
        }
      ]
    },
    {
      "cell_type": "markdown",
      "source": [
        "Se ha comprobado que entre el valor mínimo -69 y el máximo 77 se pueden generar todos los números enteros."
      ],
      "metadata": {
        "id": "mE5rmqPA7h_h"
      }
    },
    {
      "cell_type": "markdown",
      "metadata": {
        "id": "tgrnsC2nkFa8"
      },
      "source": [
        "\n",
        "\n",
        "---\n",
        "\n",
        "\n",
        "**Calcula la complejidad del algoritmo por fuerza bruta**"
      ]
    },
    {
      "cell_type": "markdown",
      "metadata": {
        "id": "9eUd3xwckP68"
      },
      "source": [
        "Mi algoritmo de buscarExpresion lo que hace es generar todas las combinaciones posibles tanto de signos como de números. Una vez generadas estas convinaciones se iteran sobre ellas para buscar la expresion deseada. El orden de  complejidad del algoritmo, sin tener en cuenta la complejidad del uso de la funcion \"permutations\" de la librería itertools sería de O(n^2)"
      ]
    },
    {
      "cell_type": "markdown",
      "metadata": {
        "id": "txbrmLmskReM"
      },
      "source": [
        "\n",
        "\n",
        "---\n",
        "\n",
        "\n",
        "**Diseña un algoritmo que mejore la complejidad del algortimo por fuerza bruta. Argumenta porque crees que mejora el algoritmo por fuerza bruta**"
      ]
    },
    {
      "cell_type": "markdown",
      "metadata": {
        "id": "hLrVwt5QkZPD"
      },
      "source": [
        "La única manera de mejorar el algoritmo sería dar por hecho que la lista de signos no es permutable y siempre se mantiene en el mismo orden. De esta manera reduciríamos el número de operaciones. Personalmente no me gusta ya que no utilizas todo el expectro de posibilidades si no que lo reduces."
      ]
    },
    {
      "cell_type": "code",
      "metadata": {
        "id": "m1eyM21Vkabg",
        "colab": {
          "base_uri": "https://localhost:8080/",
          "height": 35
        },
        "outputId": "a633e418-76d8-4e2c-face-69ddc50d047a"
      },
      "source": [
        "def buscarExpresionSignosInmutables(valor):\n",
        "    listaNumeros = combinacionNumeros() # posibles soluciones para 1..9 numeros\n",
        "    for numeros in listaNumeros:\n",
        "        expresion = generarExpresion(numeros, ('+', '-', '*', '/'))\n",
        "        if eval(expresion) == valor:\n",
        "            return expresion\n",
        "    return \"Err\"\n",
        "\n",
        "buscarExpresionSignosInmutables(4)"
      ],
      "execution_count": 21,
      "outputs": [
        {
          "output_type": "execute_result",
          "data": {
            "application/vnd.google.colaboratory.intrinsic+json": {
              "type": "string"
            },
            "text/plain": [
              "'1+4-2*3/6'"
            ]
          },
          "metadata": {},
          "execution_count": 21
        }
      ]
    },
    {
      "cell_type": "markdown",
      "metadata": {
        "id": "eGDB4K6uk1iN"
      },
      "source": [
        "\n",
        "\n",
        "---\n",
        "\n",
        "\n",
        "**Calcula la complejidad del algoritmo**"
      ]
    },
    {
      "cell_type": "markdown",
      "metadata": {
        "id": "NhpTh_BPk1ms"
      },
      "source": [
        "El orden de complejidad del nuevo algoritmo se reduciría a O(n)."
      ]
    },
    {
      "cell_type": "markdown",
      "metadata": {
        "id": "3M6QjTsSkmYe"
      },
      "source": [
        "\n",
        "\n",
        "---\n",
        "\n",
        "\n",
        "**Según el problema (y tenga sentido), diseña un juego de datos de entrada aleatorios**"
      ]
    },
    {
      "cell_type": "markdown",
      "metadata": {
        "id": "Jc3_OlyNkvjZ"
      },
      "source": [
        "Dado el tipo de problema el juego de datos para una entrada sería el valor buscado. En este caso podemos generar un número aleatorio y probar si es posible generarlo"
      ]
    },
    {
      "cell_type": "code",
      "metadata": {
        "id": "sJ-N2etjkyWc",
        "colab": {
          "base_uri": "https://localhost:8080/"
        },
        "outputId": "28c51c4b-81ef-4866-89a0-a74bb1a86331"
      },
      "source": [
        "import random\n",
        "\n",
        "rnumber = random.randint(-69,77)#randomint.uniform(-1000,1000)\n",
        "print(rnumber)\n",
        "print(buscarExpresion(rnumber))\n",
        "\n",
        "\n",
        "rnumber = random.uniform(-1000,1000)\n",
        "print(rnumber)\n",
        "print(buscarExpresion(rnumber))"
      ],
      "execution_count": 120,
      "outputs": [
        {
          "output_type": "stream",
          "name": "stdout",
          "text": [
            "-59\n",
            "6+7-8*9/1\n",
            "-353.10501892425793\n",
            "Error\n"
          ]
        }
      ]
    },
    {
      "cell_type": "markdown",
      "metadata": {
        "id": "eTFWUJQrtGcv"
      },
      "source": [
        "\n",
        "\n",
        "---\n",
        "\n",
        "\n",
        "**Enumera las referencias que has utilizado(si ha sido necesario) para llevar a cabo el trabajo**"
      ]
    },
    {
      "cell_type": "markdown",
      "source": [
        "https://docs.python.org/3/library/random.html#random.randrange <br>\n",
        "https://docs.python.org/3/library/itertools.html"
      ],
      "metadata": {
        "id": "kStWJyps9p_g"
      }
    },
    {
      "cell_type": "markdown",
      "metadata": {
        "id": "kAkDPUyRtYyH"
      },
      "source": [
        "\n",
        "\n",
        "---\n",
        "\n",
        "\n",
        "**Describe brevemente las lineas de como crees que es posible avanzar en el estudio del problema. Ten en cuenta incluso posibles variaciones del problema y/o variaciones al alza del tamaño**"
      ]
    },
    {
      "cell_type": "markdown",
      "metadata": {
        "id": "IE0uZmo-tZu-"
      },
      "source": [
        "Un avance en el estudio del problema puede ser sumar otros operadores a los permitidos, con esto conseguiríamos generar una variedad más amplia de valores.\n",
        "\n",
        "\n"
      ]
    }
  ]
}